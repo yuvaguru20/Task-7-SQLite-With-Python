{
 "cells": [
  {
   "cell_type": "code",
   "execution_count": 24,
   "id": "1b855f61-513d-4e20-aca5-7543ec7ad4c7",
   "metadata": {},
   "outputs": [],
   "source": [
    "import sqlite3\n",
    "import pandas as pd\n",
    "import matplotlib.pyplot as plt"
   ]
  },
  {
   "cell_type": "code",
   "execution_count": 26,
   "id": "d904c683-e32f-45ad-abbe-b19d99e73fc3",
   "metadata": {},
   "outputs": [],
   "source": [
    "conn = sqlite3.connect(\"sales_data_new.db\")\n",
    "cursor = conn.cursor()"
   ]
  },
  {
   "cell_type": "code",
   "execution_count": 6,
   "id": "9c99c1de-8044-45fe-bbcb-f54773f58a54",
   "metadata": {},
   "outputs": [
    {
     "data": {
      "text/plain": [
       "<sqlite3.Cursor at 0x14b2b6cc0>"
      ]
     },
     "execution_count": 6,
     "metadata": {},
     "output_type": "execute_result"
    }
   ],
   "source": [
    "cursor.execute(\"DROP TABLE IF EXISTS sales_data\")"
   ]
  },
  {
   "cell_type": "code",
   "execution_count": 28,
   "id": "9e845d21-3e92-4d47-b9c5-f8531072e62e",
   "metadata": {},
   "outputs": [],
   "source": [
    "cursor.execute('''\n",
    "CREATE TABLE sales_data_new (\n",
    "    id INTEGER PRIMARY KEY AUTOINCREMENT,\n",
    "    product TEXT,\n",
    "    quantity INTEGER,\n",
    "    price REAL\n",
    ")\n",
    "''')\n",
    "conn.commit()"
   ]
  },
  {
   "cell_type": "code",
   "execution_count": 30,
   "id": "09eb7754-b62d-4992-ab48-5b9a0dec1e21",
   "metadata": {},
   "outputs": [
    {
     "name": "stdout",
     "output_type": "stream",
     "text": [
      "Database and table created successfully!\n"
     ]
    }
   ],
   "source": [
    "print(\"Database and table created successfully!\")"
   ]
  },
  {
   "cell_type": "code",
   "execution_count": 32,
   "id": "7054d341-f54b-41cd-93b0-24c62b81af85",
   "metadata": {},
   "outputs": [],
   "source": [
    "sales_data = [\n",
    "    ('Laptop', 5, 800),\n",
    "    ('Laptop', 3, 800),\n",
    "    ('Headphones', 10, 50),\n",
    "    ('Headphones', 4, 50),\n",
    "    ('Keyboard', 7, 30),\n",
    "    ('Keyboard', 7, 30),\n",
    "    ('Mouse', 12, 20),\n",
    "    ('Mouse', 12, 20)\n",
    "]"
   ]
  },
  {
   "cell_type": "code",
   "execution_count": 36,
   "id": "4616d595-51b3-4800-a2ff-d574c8c716dc",
   "metadata": {},
   "outputs": [],
   "source": [
    "cursor.executemany(\n",
    "    \"INSERT INTO sales_data_new (product, quantity, price) VALUES (?, ?, ?)\", \n",
    "    sales_data\n",
    ")\n",
    "conn.commit()"
   ]
  },
  {
   "cell_type": "code",
   "execution_count": 38,
   "id": "9f36566b-1eee-48a3-a5ae-8bc317c69efa",
   "metadata": {},
   "outputs": [
    {
     "name": "stdout",
     "output_type": "stream",
     "text": [
      "Sample data inserted successfully!\n"
     ]
    }
   ],
   "source": [
    "print(\"Sample data inserted successfully!\")"
   ]
  },
  {
   "cell_type": "code",
   "execution_count": 40,
   "id": "56066631-5afb-4818-ac85-8f4e7c603f0f",
   "metadata": {},
   "outputs": [],
   "source": [
    "query = \"\"\"\n",
    "SELECT \n",
    "    product, \n",
    "    SUM(quantity) AS total_qty, \n",
    "    SUM(quantity * price) AS revenue\n",
    "FROM sales_data_new\n",
    "GROUP BY product\n",
    "\"\"\""
   ]
  },
  {
   "cell_type": "code",
   "execution_count": 42,
   "id": "2f0a9483-79b3-4630-9a21-5bdb74f11d01",
   "metadata": {},
   "outputs": [
    {
     "name": "stdout",
     "output_type": "stream",
     "text": [
      "\n",
      "Sales Summary:\n",
      "      product  total_qty  revenue\n",
      "0  Headphones         14    700.0\n",
      "1    Keyboard         14    420.0\n",
      "2      Laptop          8   6400.0\n",
      "3       Mouse         24    480.0\n"
     ]
    }
   ],
   "source": [
    "df_summary = pd.read_sql_query(query, conn)\n",
    "print(\"\\nSales Summary:\")\n",
    "print(df_summary)"
   ]
  },
  {
   "cell_type": "code",
   "execution_count": 44,
   "id": "1871b073-615b-4933-85c2-aa43a7a536ee",
   "metadata": {},
   "outputs": [
    {
     "data": {
      "image/png": "[encoded data removed]",
      "text/plain": [
       "<Figure size 600x400 with 1 Axes>"
      ]
     },
     "metadata": {},
     "output_type": "display_data"
    }
   ],
   "source": [
    "plt.figure(figsize=(6,4))\n",
    "plt.bar(df_summary['product'], df_summary['revenue'], color='teal')\n",
    "plt.title(\"Revenue by Product\")\n",
    "plt.xlabel(\"Product\")\n",
    "plt.ylabel(\"Total Revenue\")\n",
    "plt.tight_layout()\n",
    "plt.show()"
   ]
  },
  {
   "cell_type": "code",
   "execution_count": 46,
   "id": "f833d870-9568-48ff-b58b-b8ab00258345",
   "metadata": {},
   "outputs": [
    {
     "name": "stdout",
     "output_type": "stream",
     "text": [
      "\n",
      "Chart saved as 'sales_data_new_chart.png'\n"
     ]
    },
    {
     "data": {
      "text/plain": [
       "<Figure size 640x480 with 0 Axes>"
      ]
     },
     "metadata": {},
     "output_type": "display_data"
    }
   ],
   "source": [
    "plt.savefig(\"sales_data_new__chart.png\")\n",
    "print(\"\\nChart saved as 'sales_data_new_chart.png'\")"
   ]
  },
  {
   "cell_type": "code",
   "execution_count": 48,
   "id": "2a291893-a1da-4fe8-b1bb-b5eade033956",
   "metadata": {},
   "outputs": [
    {
     "name": "stdout",
     "output_type": "stream",
     "text": [
      "\n",
      "Database connection closed successfully!\n"
     ]
    }
   ],
   "source": [
    "conn.close()\n",
    "print(\"\\nDatabase connection closed successfully!\")"
   ]
  },
  {
   "cell_type": "code",
   "execution_count": null,
   "id": "78f46cf2-9f00-49d0-8a86-5895d67aa2d1",
   "metadata": {},
   "outputs": [],
   "source": []
  }
 ],
 "metadata": {
  "kernelspec": {
   "display_name": "Python 3 (ipykernel)",
   "language": "python",
   "name": "python3"
  },
  "language_info": {
   "codemirror_mode": {
    "name": "ipython",
    "version": 3
   },
   "file_extension": ".py",
   "mimetype": "text/x-python",
   "name": "python",
   "nbconvert_exporter": "python",
   "pygments_lexer": "ipython3",
   "version": "3.12.7"
  }
 },
 "nbformat": 4,
 "nbformat_minor": 5
}
